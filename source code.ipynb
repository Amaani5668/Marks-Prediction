{
  "cells": [
    {
      "cell_type": "code",
      "execution_count": 437,
      "metadata": {
        "id": "WS0puKznYrbb"
      },
      "outputs": [],
      "source": [
        "import numpy as np\n",
        "import pandas as pd\n",
        "import matplotlib.pyplot as plt"
      ]
    },
    {
      "cell_type": "code",
      "execution_count": 438,
      "metadata": {
        "id": "-fAN8yoEZi3B"
      },
      "outputs": [],
      "source": [
        "path = r\"dset.csv\"\n",
        "df  = pd.read_csv(path)"
      ]
    },
    {
      "cell_type": "code",
      "execution_count": 439,
      "metadata": {
        "colab": {
          "base_uri": "https://localhost:8080/",
          "height": 206
        },
        "id": "zouaV_GmaGmq",
        "outputId": "58b872d6-9d7d-421c-b650-20d5a7275ff6"
      },
      "outputs": [
        {
          "data": {
            "text/html": [
              "<div>\n",
              "<style scoped>\n",
              "    .dataframe tbody tr th:only-of-type {\n",
              "        vertical-align: middle;\n",
              "    }\n",
              "\n",
              "    .dataframe tbody tr th {\n",
              "        vertical-align: top;\n",
              "    }\n",
              "\n",
              "    .dataframe thead th {\n",
              "        text-align: right;\n",
              "    }\n",
              "</style>\n",
              "<table border=\"1\" class=\"dataframe\">\n",
              "  <thead>\n",
              "    <tr style=\"text-align: right;\">\n",
              "      <th></th>\n",
              "      <th>study_hours</th>\n",
              "      <th>student_marks</th>\n",
              "    </tr>\n",
              "  </thead>\n",
              "  <tbody>\n",
              "    <tr>\n",
              "      <th>0</th>\n",
              "      <td>6.83</td>\n",
              "      <td>78.50</td>\n",
              "    </tr>\n",
              "    <tr>\n",
              "      <th>1</th>\n",
              "      <td>6.56</td>\n",
              "      <td>76.74</td>\n",
              "    </tr>\n",
              "    <tr>\n",
              "      <th>2</th>\n",
              "      <td>NaN</td>\n",
              "      <td>78.68</td>\n",
              "    </tr>\n",
              "    <tr>\n",
              "      <th>3</th>\n",
              "      <td>5.67</td>\n",
              "      <td>71.82</td>\n",
              "    </tr>\n",
              "    <tr>\n",
              "      <th>4</th>\n",
              "      <td>8.67</td>\n",
              "      <td>84.19</td>\n",
              "    </tr>\n",
              "  </tbody>\n",
              "</table>\n",
              "</div>"
            ],
            "text/plain": [
              "   study_hours  student_marks\n",
              "0         6.83          78.50\n",
              "1         6.56          76.74\n",
              "2          NaN          78.68\n",
              "3         5.67          71.82\n",
              "4         8.67          84.19"
            ]
          },
          "execution_count": 439,
          "metadata": {},
          "output_type": "execute_result"
        }
      ],
      "source": [
        "df.head()"
      ]
    },
    {
      "cell_type": "code",
      "execution_count": 440,
      "metadata": {
        "colab": {
          "base_uri": "https://localhost:8080/",
          "height": 206
        },
        "id": "SaOb76vLaOEC",
        "outputId": "4169fd0d-af5c-4b4f-df98-ba5f20aebc72"
      },
      "outputs": [
        {
          "data": {
            "text/html": [
              "<div>\n",
              "<style scoped>\n",
              "    .dataframe tbody tr th:only-of-type {\n",
              "        vertical-align: middle;\n",
              "    }\n",
              "\n",
              "    .dataframe tbody tr th {\n",
              "        vertical-align: top;\n",
              "    }\n",
              "\n",
              "    .dataframe thead th {\n",
              "        text-align: right;\n",
              "    }\n",
              "</style>\n",
              "<table border=\"1\" class=\"dataframe\">\n",
              "  <thead>\n",
              "    <tr style=\"text-align: right;\">\n",
              "      <th></th>\n",
              "      <th>study_hours</th>\n",
              "      <th>student_marks</th>\n",
              "    </tr>\n",
              "  </thead>\n",
              "  <tbody>\n",
              "    <tr>\n",
              "      <th>382</th>\n",
              "      <td>3.561</td>\n",
              "      <td>19.128</td>\n",
              "    </tr>\n",
              "    <tr>\n",
              "      <th>383</th>\n",
              "      <td>0.301</td>\n",
              "      <td>5.609</td>\n",
              "    </tr>\n",
              "    <tr>\n",
              "      <th>384</th>\n",
              "      <td>7.163</td>\n",
              "      <td>41.444</td>\n",
              "    </tr>\n",
              "    <tr>\n",
              "      <th>385</th>\n",
              "      <td>0.309</td>\n",
              "      <td>12.027</td>\n",
              "    </tr>\n",
              "    <tr>\n",
              "      <th>386</th>\n",
              "      <td>6.335</td>\n",
              "      <td>32.357</td>\n",
              "    </tr>\n",
              "  </tbody>\n",
              "</table>\n",
              "</div>"
            ],
            "text/plain": [
              "     study_hours  student_marks\n",
              "382        3.561         19.128\n",
              "383        0.301          5.609\n",
              "384        7.163         41.444\n",
              "385        0.309         12.027\n",
              "386        6.335         32.357"
            ]
          },
          "execution_count": 440,
          "metadata": {},
          "output_type": "execute_result"
        }
      ],
      "source": [
        "df.tail()"
      ]
    },
    {
      "cell_type": "code",
      "execution_count": 441,
      "metadata": {
        "colab": {
          "base_uri": "https://localhost:8080/"
        },
        "id": "iPHxrrTyar65",
        "outputId": "5b52e602-8b74-4e1e-ad66-596e67433c0e"
      },
      "outputs": [
        {
          "data": {
            "text/plain": [
              "(387, 2)"
            ]
          },
          "execution_count": 441,
          "metadata": {},
          "output_type": "execute_result"
        }
      ],
      "source": [
        "df.shape"
      ]
    },
    {
      "cell_type": "code",
      "execution_count": 442,
      "metadata": {
        "colab": {
          "base_uri": "https://localhost:8080/"
        },
        "id": "O5pGpQIJazNy",
        "outputId": "58a3999f-0842-4fa5-9a97-08b34ea47c2c"
      },
      "outputs": [
        {
          "name": "stdout",
          "output_type": "stream",
          "text": [
            "<class 'pandas.core.frame.DataFrame'>\n",
            "RangeIndex: 387 entries, 0 to 386\n",
            "Data columns (total 2 columns):\n",
            " #   Column         Non-Null Count  Dtype  \n",
            "---  ------         --------------  -----  \n",
            " 0   study_hours    382 non-null    float64\n",
            " 1   student_marks  387 non-null    float64\n",
            "dtypes: float64(2)\n",
            "memory usage: 6.2 KB\n"
          ]
        }
      ],
      "source": [
        "df.info()"
      ]
    },
    {
      "cell_type": "code",
      "execution_count": 443,
      "metadata": {
        "colab": {
          "base_uri": "https://localhost:8080/",
          "height": 300
        },
        "id": "JhpHlRDMbXEm",
        "outputId": "af894b31-dff6-422a-d43f-753705a79cd8"
      },
      "outputs": [
        {
          "data": {
            "text/html": [
              "<div>\n",
              "<style scoped>\n",
              "    .dataframe tbody tr th:only-of-type {\n",
              "        vertical-align: middle;\n",
              "    }\n",
              "\n",
              "    .dataframe tbody tr th {\n",
              "        vertical-align: top;\n",
              "    }\n",
              "\n",
              "    .dataframe thead th {\n",
              "        text-align: right;\n",
              "    }\n",
              "</style>\n",
              "<table border=\"1\" class=\"dataframe\">\n",
              "  <thead>\n",
              "    <tr style=\"text-align: right;\">\n",
              "      <th></th>\n",
              "      <th>study_hours</th>\n",
              "      <th>student_marks</th>\n",
              "    </tr>\n",
              "  </thead>\n",
              "  <tbody>\n",
              "    <tr>\n",
              "      <th>count</th>\n",
              "      <td>382.000000</td>\n",
              "      <td>387.000000</td>\n",
              "    </tr>\n",
              "    <tr>\n",
              "      <th>mean</th>\n",
              "      <td>6.608545</td>\n",
              "      <td>66.017233</td>\n",
              "    </tr>\n",
              "    <tr>\n",
              "      <th>std</th>\n",
              "      <td>2.326743</td>\n",
              "      <td>26.202398</td>\n",
              "    </tr>\n",
              "    <tr>\n",
              "      <th>min</th>\n",
              "      <td>0.050000</td>\n",
              "      <td>5.609000</td>\n",
              "    </tr>\n",
              "    <tr>\n",
              "      <th>25%</th>\n",
              "      <td>5.390000</td>\n",
              "      <td>53.258500</td>\n",
              "    </tr>\n",
              "    <tr>\n",
              "      <th>50%</th>\n",
              "      <td>6.962000</td>\n",
              "      <td>76.830000</td>\n",
              "    </tr>\n",
              "    <tr>\n",
              "      <th>75%</th>\n",
              "      <td>8.417500</td>\n",
              "      <td>83.535000</td>\n",
              "    </tr>\n",
              "    <tr>\n",
              "      <th>max</th>\n",
              "      <td>9.910000</td>\n",
              "      <td>89.600000</td>\n",
              "    </tr>\n",
              "  </tbody>\n",
              "</table>\n",
              "</div>"
            ],
            "text/plain": [
              "       study_hours  student_marks\n",
              "count   382.000000     387.000000\n",
              "mean      6.608545      66.017233\n",
              "std       2.326743      26.202398\n",
              "min       0.050000       5.609000\n",
              "25%       5.390000      53.258500\n",
              "50%       6.962000      76.830000\n",
              "75%       8.417500      83.535000\n",
              "max       9.910000      89.600000"
            ]
          },
          "execution_count": 443,
          "metadata": {},
          "output_type": "execute_result"
        }
      ],
      "source": [
        "df.describe()"
      ]
    },
    {
      "cell_type": "code",
      "execution_count": 444,
      "metadata": {
        "colab": {
          "base_uri": "https://localhost:8080/",
          "height": 295
        },
        "id": "BnPeWCuzb3p4",
        "outputId": "b4b52bca-d2cc-48b7-ed7b-b62d4ccc447f"
      },
      "outputs": [
        {
          "data": {
            "image/png": "[encoded data removed]",
            "text/plain": [
              "<Figure size 432x288 with 1 Axes>"
            ]
          },
          "metadata": {
            "needs_background": "light"
          },
          "output_type": "display_data"
        }
      ],
      "source": [
        "plt.scatter(x =df.study_hours, y = df.student_marks)\n",
        "plt.xlabel(\"Students Study Hours\")\n",
        "plt.ylabel(\"Students marks\")\n",
        "plt.title(\"Scatter Plot of Students Study Hours vs Students marks\")\n",
        "plt.show()"
      ]
    },
    {
      "cell_type": "code",
      "execution_count": 445,
      "metadata": {
        "colab": {
          "base_uri": "https://localhost:8080/"
        },
        "id": "JqGacr14dbHv",
        "outputId": "6cc32041-9c1d-4e3d-cd97-d3dca79efd24"
      },
      "outputs": [
        {
          "data": {
            "text/plain": [
              "study_hours      5\n",
              "student_marks    0\n",
              "dtype: int64"
            ]
          },
          "execution_count": 445,
          "metadata": {},
          "output_type": "execute_result"
        }
      ],
      "source": [
        "df.isnull().sum()"
      ]
    },
    {
      "cell_type": "code",
      "execution_count": 446,
      "metadata": {
        "colab": {
          "base_uri": "https://localhost:8080/"
        },
        "id": "XVXS0f4ldiPS",
        "outputId": "278467c2-b28d-415c-8509-e6990267abdb"
      },
      "outputs": [
        {
          "data": {
            "text/plain": [
              "study_hours       6.608545\n",
              "student_marks    66.017233\n",
              "dtype: float64"
            ]
          },
          "execution_count": 446,
          "metadata": {},
          "output_type": "execute_result"
        }
      ],
      "source": [
        "df.mean()"
      ]
    },
    {
      "cell_type": "code",
      "execution_count": 447,
      "metadata": {
        "id": "76MxlNMEd9zI"
      },
      "outputs": [],
      "source": [
        "df2 = df.fillna(df.mean())"
      ]
    },
    {
      "cell_type": "code",
      "execution_count": 448,
      "metadata": {
        "colab": {
          "base_uri": "https://localhost:8080/"
        },
        "id": "bcEM6aHpeQk7",
        "outputId": "8d348248-786c-4ffd-9874-412320d945f4"
      },
      "outputs": [
        {
          "data": {
            "text/plain": [
              "study_hours      0\n",
              "student_marks    0\n",
              "dtype: int64"
            ]
          },
          "execution_count": 448,
          "metadata": {},
          "output_type": "execute_result"
        }
      ],
      "source": [
        "df2.isnull().sum()"
      ]
    },
    {
      "cell_type": "code",
      "execution_count": 449,
      "metadata": {
        "colab": {
          "base_uri": "https://localhost:8080/",
          "height": 206
        },
        "id": "kE3aVJqteUK-",
        "outputId": "5534ff9f-c813-4363-f7f5-8ecb44c8ad03"
      },
      "outputs": [
        {
          "data": {
            "text/html": [
              "<div>\n",
              "<style scoped>\n",
              "    .dataframe tbody tr th:only-of-type {\n",
              "        vertical-align: middle;\n",
              "    }\n",
              "\n",
              "    .dataframe tbody tr th {\n",
              "        vertical-align: top;\n",
              "    }\n",
              "\n",
              "    .dataframe thead th {\n",
              "        text-align: right;\n",
              "    }\n",
              "</style>\n",
              "<table border=\"1\" class=\"dataframe\">\n",
              "  <thead>\n",
              "    <tr style=\"text-align: right;\">\n",
              "      <th></th>\n",
              "      <th>study_hours</th>\n",
              "      <th>student_marks</th>\n",
              "    </tr>\n",
              "  </thead>\n",
              "  <tbody>\n",
              "    <tr>\n",
              "      <th>0</th>\n",
              "      <td>6.830000</td>\n",
              "      <td>78.50</td>\n",
              "    </tr>\n",
              "    <tr>\n",
              "      <th>1</th>\n",
              "      <td>6.560000</td>\n",
              "      <td>76.74</td>\n",
              "    </tr>\n",
              "    <tr>\n",
              "      <th>2</th>\n",
              "      <td>6.608545</td>\n",
              "      <td>78.68</td>\n",
              "    </tr>\n",
              "    <tr>\n",
              "      <th>3</th>\n",
              "      <td>5.670000</td>\n",
              "      <td>71.82</td>\n",
              "    </tr>\n",
              "    <tr>\n",
              "      <th>4</th>\n",
              "      <td>8.670000</td>\n",
              "      <td>84.19</td>\n",
              "    </tr>\n",
              "  </tbody>\n",
              "</table>\n",
              "</div>"
            ],
            "text/plain": [
              "   study_hours  student_marks\n",
              "0     6.830000          78.50\n",
              "1     6.560000          76.74\n",
              "2     6.608545          78.68\n",
              "3     5.670000          71.82\n",
              "4     8.670000          84.19"
            ]
          },
          "execution_count": 449,
          "metadata": {},
          "output_type": "execute_result"
        }
      ],
      "source": [
        "df2.head()"
      ]
    },
    {
      "cell_type": "code",
      "execution_count": 450,
      "metadata": {
        "colab": {
          "base_uri": "https://localhost:8080/"
        },
        "id": "-hXEvqB_ervH",
        "outputId": "b409c9c7-4286-4579-e862-62004e4f20df"
      },
      "outputs": [
        {
          "name": "stdout",
          "output_type": "stream",
          "text": [
            "shape of X =  (387, 1)\n",
            "shape of y =  (387, 1)\n"
          ]
        }
      ],
      "source": [
        "X = df2.drop(\"student_marks\", axis = \"columns\")\n",
        "y = df2.drop(\"study_hours\", axis = \"columns\")\n",
        "print(\"shape of X = \", X.shape)\n",
        "print(\"shape of y = \", y.shape)"
      ]
    },
    {
      "cell_type": "code",
      "execution_count": 451,
      "metadata": {
        "colab": {
          "base_uri": "https://localhost:8080/"
        },
        "id": "_6ZIrQgsfTMT",
        "outputId": "f738cc54-cbcc-419e-8141-9a0557f58db2"
      },
      "outputs": [
        {
          "name": "stdout",
          "output_type": "stream",
          "text": [
            "shape of X_train =  (309, 1)\n",
            "shape of y_train =  (309, 1)\n",
            "shape of X_test =  (78, 1)\n",
            "shape of y_test =  (78, 1)\n"
          ]
        }
      ],
      "source": [
        "from sklearn.model_selection import train_test_split\n",
        "X_train, X_test,y_train,y_test = train_test_split(X,y, test_size = 0.2, random_state=51)\n",
        "print(\"shape of X_train = \", X_train.shape)\n",
        "print(\"shape of y_train = \", y_train.shape)\n",
        "print(\"shape of X_test = \", X_test.shape)\n",
        "print(\"shape of y_test = \", y_test.shape)"
      ]
    },
    {
      "cell_type": "code",
      "execution_count": 452,
      "metadata": {
        "id": "MVgWJHfjgxlJ"
      },
      "outputs": [],
      "source": [
        "from sklearn.linear_model import LinearRegression\n",
        "lr = LinearRegression()"
      ]
    },
    {
      "cell_type": "code",
      "execution_count": 453,
      "metadata": {
        "colab": {
          "base_uri": "https://localhost:8080/"
        },
        "id": "pfH2sdLaiLz_",
        "outputId": "d3adb182-4f42-47d0-b4b8-3d39f719b6d6"
      },
      "outputs": [
        {
          "data": {
            "text/plain": [
              "LinearRegression()"
            ]
          },
          "execution_count": 453,
          "metadata": {},
          "output_type": "execute_result"
        }
      ],
      "source": [
        "lr.fit(X_train,y_train)"
      ]
    },
    {
      "cell_type": "code",
      "execution_count": 454,
      "metadata": {
        "colab": {
          "base_uri": "https://localhost:8080/"
        },
        "id": "eBfxeIeEiaOB",
        "outputId": "ae719381-a542-4b10-c1b0-a7bef33c8c46"
      },
      "outputs": [
        {
          "data": {
            "text/plain": [
              "array([[9.52842314]])"
            ]
          },
          "execution_count": 454,
          "metadata": {},
          "output_type": "execute_result"
        }
      ],
      "source": [
        "lr.coef_"
      ]
    },
    {
      "cell_type": "code",
      "execution_count": 455,
      "metadata": {
        "colab": {
          "base_uri": "https://localhost:8080/"
        },
        "id": "rtDBlJpVjLDj",
        "outputId": "7fe7589d-5f73-49e3-d1de-66ed51ba8989"
      },
      "outputs": [
        {
          "data": {
            "text/plain": [
              "array([2.97386968])"
            ]
          },
          "execution_count": 455,
          "metadata": {},
          "output_type": "execute_result"
        }
      ],
      "source": [
        "lr.intercept_"
      ]
    },
    {
      "cell_type": "code",
      "execution_count": 456,
      "metadata": {
        "colab": {
          "base_uri": "https://localhost:8080/"
        },
        "id": "bm6MKaI1jR2s",
        "outputId": "033e2fea-5cbe-4e47-99a4-b05b08a2cd7f"
      },
      "outputs": [
        {
          "data": {
            "text/plain": [
              "66.16"
            ]
          },
          "execution_count": 456,
          "metadata": {},
          "output_type": "execute_result"
        }
      ],
      "source": [
        "m = 3.93\n",
        "c = 50.44\n",
        "y  = m * 4 + c \n",
        "y"
      ]
    },
    {
      "cell_type": "code",
      "execution_count": 457,
      "metadata": {
        "colab": {
          "base_uri": "https://localhost:8080/"
        },
        "id": "1CZSt9CQjmHg",
        "outputId": "3acfb79f-6fec-451f-bfa0-62276f75d9a2"
      },
      "outputs": [
        {
          "data": {
            "text/plain": [
              "83.97"
            ]
          },
          "execution_count": 457,
          "metadata": {},
          "output_type": "execute_result"
        }
      ],
      "source": [
        "lr.predict([[8.5]])[0][0].round(2)"
      ]
    },
    {
      "cell_type": "code",
      "execution_count": 458,
      "metadata": {
        "colab": {
          "base_uri": "https://localhost:8080/"
        },
        "id": "Ws6AmyL8jxKY",
        "outputId": "831be205-72df-4024-a2d2-05f3e52ec3eb"
      },
      "outputs": [
        {
          "data": {
            "text/plain": [
              "array([[90.06365722],\n",
              "       [48.51020389],\n",
              "       [17.80962451],\n",
              "       [78.72483368],\n",
              "       [66.84289002],\n",
              "       [30.68252418],\n",
              "       [72.62664287],\n",
              "       [59.3821347 ],\n",
              "       [78.72483368],\n",
              "       [85.96643527],\n",
              "       [93.68445802],\n",
              "       [24.52716283],\n",
              "       [82.15506601],\n",
              "       [66.43316782],\n",
              "       [54.99906005],\n",
              "       [89.01553068],\n",
              "       [91.207068  ],\n",
              "       [65.7661782 ],\n",
              "       [74.2464748 ],\n",
              "       [65.09918858],\n",
              "       [67.48129437],\n",
              "       [93.58917379],\n",
              "       [75.86630674],\n",
              "       [56.80946045],\n",
              "       [69.48226323],\n",
              "       [77.40038286],\n",
              "       [62.03103633],\n",
              "       [ 4.30784892],\n",
              "       [81.67864485],\n",
              "       [67.29072591],\n",
              "       [85.49001411],\n",
              "       [43.56495227],\n",
              "       [89.3966676 ],\n",
              "       [80.43994985],\n",
              "       [21.5924085 ],\n",
              "       [ 7.81430863],\n",
              "       [18.49567098],\n",
              "       [72.15022171],\n",
              "       [58.61986084],\n",
              "       [92.54104724],\n",
              "       [52.71223849],\n",
              "       [16.38036104],\n",
              "       [55.7613339 ],\n",
              "       [80.72580254],\n",
              "       [68.05299976],\n",
              "       [70.62567401],\n",
              "       [58.14343969],\n",
              "       [54.33207043],\n",
              "       [51.28297502],\n",
              "       [92.82689993],\n",
              "       [37.19043719],\n",
              "       [88.63439375],\n",
              "       [53.85564927],\n",
              "       [76.34272789],\n",
              "       [78.72483368],\n",
              "       [91.01649954],\n",
              "       [61.79282575],\n",
              "       [62.4312301 ],\n",
              "       [88.25325682],\n",
              "       [89.6825203 ],\n",
              "       [ 7.00439267],\n",
              "       [91.30235223],\n",
              "       [ 8.21450241],\n",
              "       [82.91733986],\n",
              "       [58.14343969],\n",
              "       [65.00390435],\n",
              "       [72.36937544],\n",
              "       [89.96837299],\n",
              "       [83.10790833],\n",
              "       [85.49001411],\n",
              "       [78.05784406],\n",
              "       [80.05881292],\n",
              "       [42.32625727],\n",
              "       [10.32028392],\n",
              "       [87.5862672 ],\n",
              "       [75.58045404],\n",
              "       [90.15894145],\n",
              "       [52.90280696]])"
            ]
          },
          "execution_count": 458,
          "metadata": {},
          "output_type": "execute_result"
        }
      ],
      "source": [
        "y_pred  = lr.predict(X_test)\n",
        "y_pred\n"
      ]
    },
    {
      "cell_type": "code",
      "execution_count": 459,
      "metadata": {
        "colab": {
          "base_uri": "https://localhost:8080/",
          "height": 1000
        },
        "id": "EoYmzFW-kRaz",
        "outputId": "673f9231-9f1c-4ba3-915a-c1a8f00dbe00"
      },
      "outputs": [
        {
          "data": {
            "text/html": [
              "<div>\n",
              "<style scoped>\n",
              "    .dataframe tbody tr th:only-of-type {\n",
              "        vertical-align: middle;\n",
              "    }\n",
              "\n",
              "    .dataframe tbody tr th {\n",
              "        vertical-align: top;\n",
              "    }\n",
              "\n",
              "    .dataframe thead th {\n",
              "        text-align: right;\n",
              "    }\n",
              "</style>\n",
              "<table border=\"1\" class=\"dataframe\">\n",
              "  <thead>\n",
              "    <tr style=\"text-align: right;\">\n",
              "      <th></th>\n",
              "      <th>study_hours</th>\n",
              "      <th>student_marks_original</th>\n",
              "      <th>student_marks_predicted</th>\n",
              "    </tr>\n",
              "  </thead>\n",
              "  <tbody>\n",
              "    <tr>\n",
              "      <th>0</th>\n",
              "      <td>9.140</td>\n",
              "      <td>89.140</td>\n",
              "      <td>90.063657</td>\n",
              "    </tr>\n",
              "    <tr>\n",
              "      <th>1</th>\n",
              "      <td>4.779</td>\n",
              "      <td>22.701</td>\n",
              "      <td>48.510204</td>\n",
              "    </tr>\n",
              "    <tr>\n",
              "      <th>2</th>\n",
              "      <td>1.557</td>\n",
              "      <td>10.429</td>\n",
              "      <td>17.809625</td>\n",
              "    </tr>\n",
              "    <tr>\n",
              "      <th>3</th>\n",
              "      <td>7.950</td>\n",
              "      <td>82.030</td>\n",
              "      <td>78.724834</td>\n",
              "    </tr>\n",
              "    <tr>\n",
              "      <th>4</th>\n",
              "      <td>6.703</td>\n",
              "      <td>40.602</td>\n",
              "      <td>66.842890</td>\n",
              "    </tr>\n",
              "    <tr>\n",
              "      <th>...</th>\n",
              "      <td>...</td>\n",
              "      <td>...</td>\n",
              "      <td>...</td>\n",
              "    </tr>\n",
              "    <tr>\n",
              "      <th>73</th>\n",
              "      <td>0.771</td>\n",
              "      <td>7.892</td>\n",
              "      <td>10.320284</td>\n",
              "    </tr>\n",
              "    <tr>\n",
              "      <th>74</th>\n",
              "      <td>8.880</td>\n",
              "      <td>83.640</td>\n",
              "      <td>87.586267</td>\n",
              "    </tr>\n",
              "    <tr>\n",
              "      <th>75</th>\n",
              "      <td>7.620</td>\n",
              "      <td>79.530</td>\n",
              "      <td>75.580454</td>\n",
              "    </tr>\n",
              "    <tr>\n",
              "      <th>76</th>\n",
              "      <td>9.150</td>\n",
              "      <td>89.150</td>\n",
              "      <td>90.158941</td>\n",
              "    </tr>\n",
              "    <tr>\n",
              "      <th>77</th>\n",
              "      <td>5.240</td>\n",
              "      <td>70.780</td>\n",
              "      <td>52.902807</td>\n",
              "    </tr>\n",
              "  </tbody>\n",
              "</table>\n",
              "<p>78 rows × 3 columns</p>\n",
              "</div>"
            ],
            "text/plain": [
              "    study_hours  student_marks_original  student_marks_predicted\n",
              "0         9.140                  89.140                90.063657\n",
              "1         4.779                  22.701                48.510204\n",
              "2         1.557                  10.429                17.809625\n",
              "3         7.950                  82.030                78.724834\n",
              "4         6.703                  40.602                66.842890\n",
              "..          ...                     ...                      ...\n",
              "73        0.771                   7.892                10.320284\n",
              "74        8.880                  83.640                87.586267\n",
              "75        7.620                  79.530                75.580454\n",
              "76        9.150                  89.150                90.158941\n",
              "77        5.240                  70.780                52.902807\n",
              "\n",
              "[78 rows x 3 columns]"
            ]
          },
          "execution_count": 459,
          "metadata": {},
          "output_type": "execute_result"
        }
      ],
      "source": [
        "pd.DataFrame(np.c_[X_test, y_test, y_pred], columns = [\"study_hours\", \"student_marks_original\",\"student_marks_predicted\"])"
      ]
    },
    {
      "cell_type": "code",
      "execution_count": 460,
      "metadata": {
        "colab": {
          "base_uri": "https://localhost:8080/"
        },
        "id": "GTMEk4FFkzio",
        "outputId": "6f28f831-a07f-4af7-dc05-dd3cb57d174b"
      },
      "outputs": [
        {
          "data": {
            "text/plain": [
              "0.8159074226676759"
            ]
          },
          "execution_count": 460,
          "metadata": {},
          "output_type": "execute_result"
        }
      ],
      "source": [
        "\n",
        "lr.score(X_test,y_test)\n"
      ]
    },
    {
      "cell_type": "code",
      "execution_count": 461,
      "metadata": {
        "colab": {
          "base_uri": "https://localhost:8080/",
          "height": 282
        },
        "id": "Ifif1n_ilret",
        "outputId": "afb78ad8-430b-4c68-ea0d-58ba9a1f14a6"
      },
      "outputs": [
        {
          "data": {
            "text/plain": [
              "<matplotlib.collections.PathCollection at 0x29825acdaf0>"
            ]
          },
          "execution_count": 461,
          "metadata": {},
          "output_type": "execute_result"
        },
        {
          "data": {
            "image/png": "[encoded data removed]",
            "text/plain": [
              "<Figure size 432x288 with 1 Axes>"
            ]
          },
          "metadata": {
            "needs_background": "light"
          },
          "output_type": "display_data"
        }
      ],
      "source": [
        "plt.scatter(X_train,y_train)"
      ]
    },
    {
      "cell_type": "code",
      "execution_count": 462,
      "metadata": {
        "colab": {
          "base_uri": "https://localhost:8080/",
          "height": 282
        },
        "id": "QN9K4kgemIDu",
        "outputId": "d0444a64-8255-4760-a696-92e9e1a7ecb1"
      },
      "outputs": [
        {
          "data": {
            "text/plain": [
              "[<matplotlib.lines.Line2D at 0x29825b33af0>]"
            ]
          },
          "execution_count": 462,
          "metadata": {},
          "output_type": "execute_result"
        },
        {
          "data": {
            "image/png": "[encoded data removed]",
            "text/plain": [
              "<Figure size 432x288 with 1 Axes>"
            ]
          },
          "metadata": {
            "needs_background": "light"
          },
          "output_type": "display_data"
        }
      ],
      "source": [
        "plt.scatter(X_test, y_test)\n",
        "plt.plot(X_train, lr.predict(X_train), color = \"r\")\n"
      ]
    },
    {
      "cell_type": "code",
      "execution_count": 463,
      "metadata": {
        "colab": {
          "base_uri": "https://localhost:8080/"
        },
        "id": "iBNTiYS7Exbu",
        "outputId": "5fae16c7-2000-4a39-d62f-a048dca8f66b"
      },
      "outputs": [
        {
          "data": {
            "text/plain": [
              "['mark_predictor.pkl']"
            ]
          },
          "execution_count": 463,
          "metadata": {},
          "output_type": "execute_result"
        }
      ],
      "source": [
        "import joblib\n",
        "joblib.dump(lr,\"mark_predictor.pkl\")"
      ]
    },
    {
      "cell_type": "code",
      "execution_count": 464,
      "metadata": {
        "id": "Cs50p40bFISz"
      },
      "outputs": [],
      "source": [
        "model=joblib.load(\"mark_predictor.pkl\")"
      ]
    },
    {
      "cell_type": "code",
      "execution_count": 465,
      "metadata": {
        "colab": {
          "base_uri": "https://localhost:8080/"
        },
        "id": "JxH5MQ7yFXlL",
        "outputId": "5a9da445-ef66-42d5-bdf1-7ebdba6f2b3e"
      },
      "outputs": [
        {
          "data": {
            "text/plain": [
              "79.20125483662817"
            ]
          },
          "execution_count": 465,
          "metadata": {},
          "output_type": "execute_result"
        }
      ],
      "source": [
        "model.predict([[8]])[0][0]"
      ]
    },
    {
      "cell_type": "code",
      "execution_count": 466,
      "metadata": {},
      "outputs": [],
      "source": [
        "#linear regression\n",
        "pred0  = lr.predict(X_test).sum(axis=1)"
      ]
    },
    {
      "cell_type": "code",
      "execution_count": 467,
      "metadata": {
        "colab": {
          "base_uri": "https://localhost:8080/"
        },
        "id": "JhCDK274FiGY",
        "outputId": "e1a8363a-182f-43ec-ee0d-5a5da1d4bd6a"
      },
      "outputs": [
        {
          "name": "stderr",
          "output_type": "stream",
          "text": [
            "C:\\Users\\mohda\\AppData\\Local\\Temp/ipykernel_1592/3397992269.py:3: DataConversionWarning: A column-vector y was passed when a 1d array was expected. Please change the shape of y to (n_samples,), for example using ravel().\n",
            "  model1.fit(X_train,y_train)\n"
          ]
        },
        {
          "name": "stdout",
          "output_type": "stream",
          "text": [
            "[89.04712792 24.20717514 12.38058856 78.00796371 76.59384779 15.70446467\n",
            " 73.50167116 67.06413511 78.00796371 84.51877185 89.48522066 12.3577479\n",
            " 82.84574502 76.60989537 68.90247655 88.16360886 89.22536704 69.86526782\n",
            " 66.04138747 67.09203874 76.49642536 89.48390782 65.86163183 64.73895915\n",
            " 72.62318596 77.20779215 58.0294182  16.44989728 82.77641723 76.51203341\n",
            " 84.30918935 22.58666999 88.55413187 82.65171624 12.25641225 16.44989728\n",
            " 12.09781867 73.41286911 67.68638069 89.40546989 70.7350583  12.49913377\n",
            " 65.7074448  82.69684227 76.43018723 72.68976148 67.93647494 70.67225253\n",
            " 68.91591051 89.44264183 17.6916643  87.28168985 71.00003261 68.59206423\n",
            " 78.00796371 89.20402066 58.29021307 58.44979163 87.11799397 88.87510213\n",
            " 16.44989728 89.24500713 16.44989728 83.84063963 67.93647494 67.01893763\n",
            " 73.57225163 88.93936382 83.87436147 84.30918935 77.09638788 82.39527052\n",
            " 22.3571462  16.20247189 85.42839978 65.71558192 89.06101849 70.74002161]\n"
          ]
        }
      ],
      "source": [
        "from sklearn.ensemble import RandomForestRegressor\n",
        "model1=RandomForestRegressor(n_estimators=500,bootstrap=True,max_depth=50,max_features=0.25,min_samples_leaf=7,min_samples_split=10)\n",
        "model1.fit(X_train,y_train)\n",
        "pred1=model1.predict(X_test)\n",
        "print(pred1)"
      ]
    },
    {
      "cell_type": "code",
      "execution_count": 468,
      "metadata": {},
      "outputs": [
        {
          "name": "stdout",
          "output_type": "stream",
          "text": [
            "[88.96029698 22.05855254 10.04257593 78.05263588 75.40805015 16.55785709\n",
            " 76.02827335 70.77802876 78.05263588 84.27530343 89.10722767 12.61120688\n",
            " 82.84871446 75.40805015 69.66774076 88.82272453 89.00731611 52.96833715\n",
            " 66.5418645  69.33472786 75.40805015 89.10722767 58.8227082  67.28636454\n",
            " 74.36693758 78.31465309 50.70335963  9.66454189 82.84871446 75.40805015\n",
            " 84.12071886 22.16631746 88.882509   82.84871446 13.10334922  9.66454189\n",
            " 10.04257593 76.02827335 70.77802876 89.0909982  70.02722226 10.04257593\n",
            " 70.18326084 82.84871446 75.5505166  74.43793758 70.54747397 70.21407463\n",
            " 70.02722226 89.10722767 17.92269087 86.44078372 70.21407463 76.40765627\n",
            " 78.05263588 89.00731611 68.588907   50.70335963 86.44078372 88.91844482\n",
            "  9.66454189 89.0289001   9.66454189 83.88163047 70.54747397 69.33472786\n",
            " 76.02827335 88.91844482 83.88163047 84.12071886 78.31465309 81.85015775\n",
            " 22.16631746  9.66454189 85.56868495 59.77696039 88.96029698 70.02722226]\n"
          ]
        },
        {
          "name": "stderr",
          "output_type": "stream",
          "text": [
            "C:\\Users\\mohda\\anac\\lib\\site-packages\\sklearn\\utils\\validation.py:63: DataConversionWarning: A column-vector y was passed when a 1d array was expected. Please change the shape of y to (n_samples, ), for example using ravel().\n",
            "  return f(*args, **kwargs)\n"
          ]
        }
      ],
      "source": [
        "from sklearn.ensemble import GradientBoostingRegressor\n",
        "model2= GradientBoostingRegressor()\n",
        "model2.fit(X_train,y_train)\n",
        "pred2=model2.predict(X_test)\n",
        "print(pred2)"
      ]
    },
    {
      "cell_type": "code",
      "execution_count": 469,
      "metadata": {
        "colab": {
          "base_uri": "https://localhost:8080/"
        },
        "id": "k_k10Ajo_GjN",
        "outputId": "5b73720b-1148-40e1-9534-2d7a13513410"
      },
      "outputs": [
        {
          "name": "stdout",
          "output_type": "stream",
          "text": [
            "Ensemble MoDEL Accuracy\n",
            "0.9462360764191726\n"
          ]
        }
      ],
      "source": [
        "#accuracy\n",
        "from sklearn.metrics import r2_score\n",
        "ensemble_prediction=(pred1*0.4+pred0*0.6+pred2*0.4)\n",
        "r2_score_ensemble=r2_score(y_test,ensemble_prediction).sum(axis=0)\n",
        "print(\"Ensemble MoDEL Accuracy\")\n",
        "out_arr=np.mod(r2_score_ensemble,1)\n",
        "print(out_arr)\n"
      ]
    },
    {
      "cell_type": "code",
      "execution_count": 470,
      "metadata": {
        "colab": {
          "base_uri": "https://localhost:8080/"
        },
        "id": "ArauTo_fA_fw",
        "outputId": "d0a736ad-55ff-4aee-e5d7-9cb9329593ad"
      },
      "outputs": [],
      "source": [
        "from sklearn.metrics import mean_absolute_error\n",
        "from sklearn.metrics import mean_squared_log_error\n",
        "from sklearn.metrics import explained_variance_score\n",
        "r2_score1=r2_score(y_test,pred1)\n",
        "variance_score1=explained_variance_score(y_test,pred1)\n",
        "mean_absolute_error1=mean_absolute_error(y_test,pred1)\n",
        "mean_squared_log_error1=mean_squared_log_error(y_test,pred1)\n",
        "\n",
        "r2_score2=r2_score(y_test,pred2)\n",
        "variance_score2=explained_variance_score(y_test,pred2)\n",
        "mean_absolute_error2=mean_absolute_error(y_test,pred2)\n",
        "mean_squared_log_error2=mean_squared_log_error(y_test,pred2)\n",
        "\n",
        "\n",
        "r2_score4=r2_score(y_test,pred0)\n",
        "variance_score4=explained_variance_score(y_test,pred0)\n",
        "mean_absolute_error4=mean_absolute_error(y_test,pred0)\n",
        "mean_squared_log_error4=mean_squared_log_error(y_test,pred0)"
      ]
    },
    {
      "cell_type": "code",
      "execution_count": 471,
      "metadata": {
        "colab": {
          "base_uri": "https://localhost:8080/"
        },
        "id": "Nr2sc8APB4rm",
        "outputId": "6d4b8641-4a3e-4040-da6b-9b9e6b91f0ab"
      },
      "outputs": [
        {
          "name": "stdout",
          "output_type": "stream",
          "text": [
            "Ranom Forest Regressor Report\n",
            "-> R2 Score: 0.9002491175348112\n",
            "->mean absolute error: 5.102991591848249\n",
            "->variance_score: 0.9003461580762955\n",
            "-> mean squared log error: 0.058424978129525226\n",
            "\n",
            "\n",
            "Linear Regression Report\n",
            "-> R2 Score: 0.8159074226676759\n",
            "->mean absolute error: 8.889062220544739\n",
            "->variance_score: 0.8160810014668257\n",
            "-> mean squared log error: 0.10784519850935857\n",
            "\n",
            "\n",
            "Gradient Boosting Report\n",
            "-> R2 Score: 0.8851455670055234\n",
            "->mean absolute error: 4.8197961791467545\n",
            "->variance_score: 0.8852157300620376\n",
            "-> mean squared log error: 0.03855770404561921\n"
          ]
        }
      ],
      "source": [
        "#printing the values\n",
        "print(\"Ranom Forest Regressor Report\")\n",
        "print(\"-> R2 Score:\",r2_score1)\n",
        "print(\"->mean absolute error:\",mean_absolute_error1)\n",
        "print(\"->variance_score:\",variance_score1)\n",
        "print(\"-> mean squared log error:\",mean_squared_log_error1)\n",
        "\n",
        "\n",
        "\n",
        "#linear regressor\n",
        "print(\"\\n\")\n",
        "print(\"Linear Regression Report\")\n",
        "print(\"-> R2 Score:\",r2_score4)\n",
        "print(\"->mean absolute error:\",mean_absolute_error4)\n",
        "print(\"->variance_score:\",variance_score4)\n",
        "print(\"-> mean squared log error:\",mean_squared_log_error4)\n",
        "\n",
        "#Gradient boosting\n",
        "print(\"\\n\")\n",
        "print(\"Gradient Boosting Report\")\n",
        "print(\"-> R2 Score:\",r2_score2)\n",
        "print(\"->mean absolute error:\",mean_absolute_error2)\n",
        "print(\"->variance_score:\",variance_score2)\n",
        "print(\"-> mean squared log error:\",mean_squared_log_error2)\n"
      ]
    },
    {
      "cell_type": "code",
      "execution_count": 472,
      "metadata": {
        "id": "So75IT_GDGRN"
      },
      "outputs": [
        {
          "data": {
            "image/png": "[encoded data removed]",
            "text/plain": [
              "<Figure size 432x288 with 1 Axes>"
            ]
          },
          "metadata": {
            "needs_background": "light"
          },
          "output_type": "display_data"
        }
      ],
      "source": [
        "plt.bar(pred1,pred0)\n",
        "plt.title('Comparison')\n",
        "plt.xlabel('Linear REgression')\n",
        "plt.ylabel('Random Forest')\n",
        "plt.show()"
      ]
    },
    {
      "cell_type": "code",
      "execution_count": 473,
      "metadata": {
        "colab": {
          "base_uri": "https://localhost:8080/"
        },
        "id": "6aXzOQkDHdJr",
        "outputId": "fd72981c-68b3-47ee-f72f-1a15974fd554"
      },
      "outputs": [],
      "source": [
        "a=r2_score1\n",
        "b=r2_score4\n",
        "c=r2_score2\n",
        "q=variance_score1\n",
        "w=variance_score2\n",
        "e=variance_score4\n",
        "r=mean_absolute_error1\n",
        "t=mean_absolute_error2\n",
        "u=mean_absolute_error4\n",
        "i=mean_squared_log_error1\n",
        "o=mean_squared_log_error2\n",
        "p=mean_squared_log_error4"
      ]
    },
    {
      "cell_type": "code",
      "execution_count": 474,
      "metadata": {
        "id": "cPiD1gK_JPVJ"
      },
      "outputs": [
        {
          "data": {
            "image/png": "[encoded data removed]",
            "text/plain": [
              "<Figure size 432x288 with 1 Axes>"
            ]
          },
          "metadata": {
            "needs_background": "light"
          },
          "output_type": "display_data"
        }
      ],
      "source": [
        "plt.bar(a,b)\n",
        "plt.title('Comparison')\n",
        "plt.xlabel('Linear REgression r2score')\n",
        "plt.ylabel('Random Forest r2score')\n",
        "plt.grid()\n",
        "plt.show()"
      ]
    },
    {
      "cell_type": "code",
      "execution_count": 475,
      "metadata": {},
      "outputs": [
        {
          "data": {
            "image/png": "[encoded data removed]",
            "text/plain": [
              "<Figure size 432x288 with 1 Axes>"
            ]
          },
          "metadata": {
            "needs_background": "light"
          },
          "output_type": "display_data"
        }
      ],
      "source": [
        "plt.bar(q,w)\n",
        "plt.title('Comparison')\n",
        "plt.xlabel('Linear REgression Variance Score')\n",
        "plt.ylabel('Random Forest Variance Score')\n",
        "plt.grid()\n",
        "plt.show()"
      ]
    },
    {
      "cell_type": "code",
      "execution_count": 476,
      "metadata": {},
      "outputs": [
        {
          "data": {
            "image/png": "[encoded data removed]",
            "text/plain": [
              "<Figure size 432x288 with 1 Axes>"
            ]
          },
          "metadata": {
            "needs_background": "light"
          },
          "output_type": "display_data"
        }
      ],
      "source": [
        "plt.bar(r,t)\n",
        "plt.title('Comparison')\n",
        "plt.xlabel('Linear REgression Mean Absolute Error')\n",
        "plt.ylabel('Random Forest Mean Absolute Error')\n",
        "plt.grid()\n",
        "plt.show()"
      ]
    },
    {
      "cell_type": "code",
      "execution_count": 477,
      "metadata": {},
      "outputs": [
        {
          "data": {
            "image/png": "[encoded data removed]",
            "text/plain": [
              "<Figure size 432x288 with 1 Axes>"
            ]
          },
          "metadata": {
            "needs_background": "light"
          },
          "output_type": "display_data"
        }
      ],
      "source": [
        "plt.bar(i,o)\n",
        "plt.title('Comparison')\n",
        "plt.xlabel('Linear REgression Mean Squared Log Error')\n",
        "plt.ylabel('Random Forest Mean Squared Log Error')\n",
        "plt.grid()\n",
        "plt.show()"
      ]
    },
    {
      "cell_type": "code",
      "execution_count": 478,
      "metadata": {},
      "outputs": [
        {
          "data": {
            "image/png": "[encoded data removed]",
            "text/plain": [
              "<Figure size 432x288 with 1 Axes>"
            ]
          },
          "metadata": {
            "needs_background": "light"
          },
          "output_type": "display_data"
        }
      ],
      "source": [
        "plt.bar(pred2,pred0)\n",
        "plt.title('Comparison')\n",
        "plt.xlabel('Linear REgression')\n",
        "plt.ylabel('Gradient Boosting')\n",
        "plt.show()"
      ]
    },
    {
      "cell_type": "code",
      "execution_count": 479,
      "metadata": {},
      "outputs": [
        {
          "data": {
            "image/png": "[encoded data removed]",
            "text/plain": [
              "<Figure size 432x288 with 1 Axes>"
            ]
          },
          "metadata": {
            "needs_background": "light"
          },
          "output_type": "display_data"
        }
      ],
      "source": [
        "plt.bar(a,c)\n",
        "plt.title('Comparison')\n",
        "plt.xlabel('Linear REgression r2score')\n",
        "plt.ylabel('Gradient Boosting r2score')\n",
        "plt.grid()\n",
        "plt.show()"
      ]
    },
    {
      "cell_type": "code",
      "execution_count": 480,
      "metadata": {},
      "outputs": [
        {
          "data": {
            "image/png": "[encoded data removed]",
            "text/plain": [
              "<Figure size 432x288 with 1 Axes>"
            ]
          },
          "metadata": {
            "needs_background": "light"
          },
          "output_type": "display_data"
        }
      ],
      "source": [
        "plt.bar(w,e)\n",
        "plt.title('Comparison')\n",
        "plt.xlabel('Linear REgression Variance score')\n",
        "plt.ylabel('Random Forest Variance Score')\n",
        "plt.grid()\n",
        "plt.show()"
      ]
    },
    {
      "cell_type": "code",
      "execution_count": 481,
      "metadata": {},
      "outputs": [
        {
          "data": {
            "image/png": "[encoded data removed]",
            "text/plain": [
              "<Figure size 432x288 with 1 Axes>"
            ]
          },
          "metadata": {
            "needs_background": "light"
          },
          "output_type": "display_data"
        }
      ],
      "source": [
        "plt.bar(t,u)\n",
        "plt.title('Comparison')\n",
        "plt.xlabel('Linear REgression Mean Absolute Error')\n",
        "plt.ylabel('Random Forest Mean Absolute Error')\n",
        "plt.grid()\n",
        "plt.show()"
      ]
    },
    {
      "cell_type": "code",
      "execution_count": 482,
      "metadata": {},
      "outputs": [
        {
          "data": {
            "image/png": "[encoded data removed]",
            "text/plain": [
              "<Figure size 432x288 with 1 Axes>"
            ]
          },
          "metadata": {
            "needs_background": "light"
          },
          "output_type": "display_data"
        }
      ],
      "source": [
        "plt.bar(o,p)\n",
        "plt.title('Comparison')\n",
        "plt.xlabel('Linear REgression Mean Squared Log Error ')\n",
        "plt.ylabel('Random Forest Mean Squared Log Error')\n",
        "plt.grid()\n",
        "plt.show()"
      ]
    }
  ],
  "metadata": {
    "colab": {
      "collapsed_sections": [],
      "name": "College_students_mark_predictor (1).ipynb",
      "provenance": []
    },
    "kernelspec": {
      "display_name": "Python 3",
      "name": "python3"
    },
    "language_info": {
      "codemirror_mode": {
        "name": "ipython",
        "version": 3
      },
      "file_extension": ".py",
      "mimetype": "text/x-python",
      "name": "python",
      "nbconvert_exporter": "python",
      "pygments_lexer": "ipython3",
      "version": "3.9.7"
    }
  },
  "nbformat": 4,
  "nbformat_minor": 0
}
